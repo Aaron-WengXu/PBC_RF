{
 "cells": [
  {
   "cell_type": "code",
   "execution_count": 1,
   "metadata": {},
   "outputs": [],
   "source": [
    "import os\n",
    "import math\n",
    "import pandas as pd\n",
    "import numpy as np\n",
    "import pickle\n",
    "import matplotlib.pyplot as plt\n",
    "\n",
    "from sklearn.ensemble import RandomForestRegressor\n",
    "from sklearn.model_selection import GridSearchCV\n",
    "from coordinates import LocalCoord\n",
    "import coordinates as coord"
   ]
  },
  {
   "cell_type": "markdown",
   "metadata": {},
   "source": [
    "# Load data from files"
   ]
  },
  {
   "cell_type": "code",
   "execution_count": 2,
   "metadata": {},
   "outputs": [
    {
     "data": {
      "text/plain": [
       "(1773, 1773)"
      ]
     },
     "execution_count": 2,
     "metadata": {},
     "output_type": "execute_result"
    }
   ],
   "source": [
    "# input_size = 39\n",
    "input_size = 55 \n",
    "PRN_size = 32\n",
    "res_size = 1\n",
    "label_size = 3\n",
    "\n",
    "# Origin of NED coordinate system\n",
    "# Latitude, Longitude, and Altitude\n",
    "# # Rural area\n",
    "# origin_ned = np.array([37.471338, -122.237757, 13])\n",
    "# Urban area\n",
    "origin_ned = np.array([37.334342, -121.887827, 24])\n",
    "local_coord = LocalCoord(origin_ned, coord.geodetic2ecef(origin_ned))\n",
    "\n",
    "# %% *********************************** Reading training data in multiple data files ***********************************\n",
    "training_data_dir = \"../data/Dynamic/Data4QE/RouteUS/Training/\"\n",
    "# Get all files in the current directory\n",
    "training_data_files = os.listdir(training_data_dir)\n",
    "inputs_list = []\n",
    "labels_list = []\n",
    "for data_file in training_data_files:\n",
    "    # If the object is not a directory, we will open and read it\n",
    "    data_file_path = training_data_dir+'/'+data_file\n",
    "    if not os.path.isdir(data_file_path):\n",
    "        # Read one data file\n",
    "        data = pd.read_csv(data_file_path)\n",
    "        \n",
    "        # Input features: E, N, C/N0, Elevation\n",
    "        # Convert Ground truth location from ECEF to NED\n",
    "        NED = local_coord.ecef2ned(np.array(data.iloc[:, 10:13].values))\n",
    "        inputs = np.concatenate([NED[:, 1::-1], np.array(data.iloc[:, 8:9].values), np.array(data.iloc[:, 6:7].values/math.pi*180)], axis =1)\n",
    "        \n",
    "        # Unsmoothed pseudorange residuals\n",
    "        labels = np.array(data.iloc[:, 31:32].values)\n",
    "        \n",
    "        inputs_list.append(inputs)\n",
    "        labels_list.append(labels)\n",
    "\n",
    "InputsAll = np.concatenate(inputs_list, axis = 0) \n",
    "LabelsAll = np.ravel(np.concatenate(labels_list, axis = 0))\n",
    "len(InputsAll), len(LabelsAll)       "
   ]
  },
  {
   "cell_type": "markdown",
   "metadata": {},
   "source": [
    "# Random Forest"
   ]
  },
  {
   "cell_type": "code",
   "execution_count": null,
   "metadata": {},
   "outputs": [],
   "source": [
    "# Number of features randomly selected for node splitting \n",
    "s = 2\n",
    "\n",
    "# Number of trees\n",
    "m = 2000\n",
    "\n",
    "# Maximum depth of trees\n",
    "md = 20\n",
    "\n",
    "# Ratio of samples for each tree\n",
    "rSamples = 0.2\n",
    "\n",
    "regr = RandomForestRegressor(n_estimators=m, max_depth=md, max_features=s, max_samples=rSamples)\n",
    "regr.fit(InputsAll, LabelsAll)\n",
    "\n",
    "# save the model to disk\n",
    "filename = 'finalized_RF_model.sav'\n",
    "pickle.dump(regr, open(filename, 'wb'))\n",
    "\n",
    "# # K-fold cross validated grid-search for hyperparameter tweaking\n",
    "# rfRegressor = RandomForestRegressor(n_estimators=m, max_features=s)\n",
    "# parameters = {'max_depth':[3, 5, 7, 10, 20], 'max_samples':[0.1, 0.2, 0.3, 0.4, 0.5]}\n",
    "# regr = GridSearchCV(rfRegressor, parameters, scoring='neg_mean_squared_error', cv=5)\n",
    "# regr.fit(InputsAll, LabelsAll)\n",
    "\n",
    "# # save the model to disk\n",
    "# filename = 'finalized_RF_bestModel.sav'\n",
    "# pickle.dump(regr.best_estimator_, open(filename, 'wb'))\n",
    "# regr.best_params_\n"
   ]
  },
  {
   "cell_type": "markdown",
   "metadata": {},
   "source": [
    "# Load the Best Model"
   ]
  },
  {
   "cell_type": "code",
   "execution_count": 2,
   "metadata": {},
   "outputs": [
    {
     "data": {
      "text/plain": [
       "{'bootstrap': True,\n",
       " 'ccp_alpha': 0.0,\n",
       " 'criterion': 'squared_error',\n",
       " 'max_depth': 3,\n",
       " 'max_features': 2,\n",
       " 'max_leaf_nodes': None,\n",
       " 'max_samples': 0.1,\n",
       " 'min_impurity_decrease': 0.0,\n",
       " 'min_samples_leaf': 1,\n",
       " 'min_samples_split': 2,\n",
       " 'min_weight_fraction_leaf': 0.0,\n",
       " 'n_estimators': 2000,\n",
       " 'n_jobs': None,\n",
       " 'oob_score': False,\n",
       " 'random_state': None,\n",
       " 'verbose': 0,\n",
       " 'warm_start': False}"
      ]
     },
     "execution_count": 2,
     "metadata": {},
     "output_type": "execute_result"
    }
   ],
   "source": [
    "# load the model from disk\n",
    "filename_eval = 'finalized_RF_bestModel_urban.sav'\n",
    "loaded_model = pickle.load(open(filename_eval, 'rb'))\n",
    "loaded_model.get_params()"
   ]
  },
  {
   "cell_type": "markdown",
   "metadata": {},
   "source": [
    "# Count the nodes in the RF"
   ]
  },
  {
   "cell_type": "code",
   "execution_count": 6,
   "metadata": {},
   "outputs": [
    {
     "data": {
      "text/plain": [
       "394038"
      ]
     },
     "execution_count": 6,
     "metadata": {},
     "output_type": "execute_result"
    }
   ],
   "source": [
    "SumNode = 0\n",
    "for eachTree in loaded_model.estimators_:\n",
    "    SumNode = SumNode + eachTree.tree_.node_count\n",
    "SumNode"
   ]
  },
  {
   "cell_type": "markdown",
   "metadata": {},
   "source": [
    "# Prediction"
   ]
  },
  {
   "cell_type": "code",
   "execution_count": 12,
   "metadata": {},
   "outputs": [
    {
     "data": {
      "image/png": "[encoded data removed]",
      "text/plain": [
       "<Figure size 640x480 with 1 Axes>"
      ]
     },
     "metadata": {},
     "output_type": "display_data"
    }
   ],
   "source": [
    "# %% *********************************** Reading testing data  ***********************************\n",
    "data_file_eval = \"../data/Dynamic/Data4QE/RouteUS/Testing/SvPVT3D_Error_label_dynamic_2021-04-28-US-SJC-1_G.csv\"\n",
    "data_eval = pd.read_csv(data_file_eval)\n",
    "\n",
    "# Input features: E, N, C/N0, Elevation\n",
    "# Convert Ground truth location from ECEF to NED\n",
    "NED_eval = local_coord.ecef2ned(np.array(data_eval.iloc[:, 10:13].values))\n",
    "inputs_eval = np.concatenate([NED_eval[:, 1::-1], np.array(data_eval.iloc[:, 8:9].values), np.array(data_eval.iloc[:, 6:7].values/math.pi*180)], axis =1)\n",
    "\n",
    "# Unsmoothed pseudorange residuals\n",
    "labels_eval = np.array(data_eval.iloc[:, 31:32].values)\n",
    "\n",
    "# Prediction with RF\n",
    "haty = loaded_model.predict(inputs_eval)\n",
    "\n",
    "# Write debiased results to a .csv file\n",
    "prm_bias_np = np.concatenate([np.array(data_eval.iloc[:, 0:2].values), np.expand_dims(haty, axis =1)], axis = 1)\n",
    "prm_bias_np_df = pd.DataFrame(prm_bias_np)\n",
    "prm_bias_np_df.to_csv('PrM_Bias_2021-04-28-US-SJC-1_RF_G.csv',header=False)\n",
    "\n",
    "# plot\n",
    "fig, ax = plt.subplots()\n",
    "ax.plot((np.expand_dims(haty, axis =1)-labels_eval)**2)\n",
    "ax.set_xlabel('Epochs ($s$)', fontsize=12)\n",
    "ax.set_ylabel('Prediction MSE ($m^2$)', fontsize=12)\n",
    "plt.show()"
   ]
  }
 ],
 "metadata": {
  "kernelspec": {
   "display_name": "sklearn-env",
   "language": "python",
   "name": "python3"
  },
  "language_info": {
   "codemirror_mode": {
    "name": "ipython",
    "version": 3
   },
   "file_extension": ".py",
   "mimetype": "text/x-python",
   "name": "python",
   "nbconvert_exporter": "python",
   "pygments_lexer": "ipython3",
   "version": "3.11.4"
  },
  "orig_nbformat": 4
 },
 "nbformat": 4,
 "nbformat_minor": 2
}
